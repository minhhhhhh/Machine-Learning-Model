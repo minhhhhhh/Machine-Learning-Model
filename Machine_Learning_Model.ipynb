{
  "nbformat": 4,
  "nbformat_minor": 0,
  "metadata": {
    "colab": {
      "provenance": [],
      "toc_visible": true,
      "include_colab_link": true
    },
    "kernelspec": {
      "name": "python3",
      "display_name": "Python 3"
    }
  },
  "cells": [
    {
      "cell_type": "markdown",
      "metadata": {
        "id": "view-in-github",
        "colab_type": "text"
      },
      "source": [
        "<a href=\"https://colab.research.google.com/github/minhhhhhh/Machine-Learning-Model/blob/main/Machine_Learning_Model.ipynb\" target=\"_parent\"><img src=\"https://colab.research.google.com/assets/colab-badge.svg\" alt=\"Open In Colab\"/></a>"
      ]
    },
    {
      "cell_type": "markdown",
      "metadata": {
        "id": "NM8b9KVYsETT"
      },
      "source": [
        "\n",
        "\n",
        "Implement 2 different machine learning algorithms\n",
        "*   Stochastic Gradient Descent\n",
        "*   ID3 Decision Tree\n"
      ]
    },
    {
      "cell_type": "markdown",
      "metadata": {
        "id": "LzR4Ic34zJlT"
      },
      "source": [
        "\n",
        "## Description\n",
        "\n",
        "This project is focused on **machine learning**, mainly on the implementation of 2 different algorithms - Stochastic Gradient Descent & ID3 decision tree.\n",
        "The assignment is divided into two sections, each for one unique ML algorithm.\n",
        "\n",
        "The base structure and comments are provided on what should be done. You can use some libraries that help support you for the successful completion of the assignment. However, you **CANNOT** use a complete library that contains the implementation of ML algorithms. You can get pieces of code from online, but please cite the source properly.\n"
      ]
    },
    {
      "cell_type": "markdown",
      "metadata": {
        "id": "vnPfmHAOteOI"
      },
      "source": [
        "##Import Libraries\n",
        "\n",
        "Write all the import statements here. This should be for both algorithm implmentations. As mentioned before, you can not use any premade ML libraries."
      ]
    },
    {
      "cell_type": "code",
      "metadata": {
        "id": "f9apbZGptej6",
        "colab": {
          "base_uri": "https://localhost:8080/"
        },
        "outputId": "709b3d4c-2090-4244-a6e9-a73bdf66a7ca"
      },
      "source": [
        "# import all required libraries\n",
        "import numpy as np\n",
        "import matplotlib.pyplot as plt\n",
        "from google.colab import drive\n",
        "drive.mount('/content/gdrive')"
      ],
      "execution_count": null,
      "outputs": [
        {
          "output_type": "stream",
          "name": "stdout",
          "text": [
            "Drive already mounted at /content/gdrive; to attempt to forcibly remount, call drive.mount(\"/content/gdrive\", force_remount=True).\n"
          ]
        }
      ]
    },
    {
      "cell_type": "code",
      "metadata": {
        "id": "fdqXyFZ95P0j"
      },
      "source": [
        "# Assume that the data files are in the following folder -- THIS WILL BE USED BY THE TA\n",
        "#Please change path when use\n",
        "#basePath = \"/content/drive/My Drive/Colab Notebooks/Artificial Intelligence/Data/\"\n",
        "\n",
        "#Local path\n",
        "basePath = \"/content/gdrive/My Drive/HW3/\"\n"
      ],
      "execution_count": null,
      "outputs": []
    },
    {
      "cell_type": "markdown",
      "metadata": {
        "id": "YeYRnesWqvLm"
      },
      "source": [
        "#Stochastic Gradient Descent\n",
        "\n",
        "In this section, you will implement the Stochastic Gradient Descent algorithm. The training is for a **binary classification** task i.e. each instance will have a class value of 0 or 1. Also, assume that you are given **all binary-valued attributes** and that there are **no missing values** in the train or test data.\n"
      ]
    },
    {
      "cell_type": "markdown",
      "metadata": {
        "id": "IUVZIK6ctMi4"
      },
      "source": [
        "##Algorithm\n",
        "\n",
        "\n",
        "\n",
        "Following are the data files that will be provided to you for the gradient descent algorithm implementation.\n",
        "\n",
        "*   Training file - 'gd-train.dat'\n",
        "*   Testing file - 'gd-test.dat'\n",
        "\n",
        "In these files, only non-space characters are relevant. The first line contains the attribute names. All the other lines are different example instances to be used for the algorithm. Each column holds values of the attributes, whereas the last column holds the class label for that instance.\n",
        "\n",
        "Write the code in the following code block, structure is provided. Instructions on the steps to follow are provided as comments.\n",
        "\n"
      ]
    },
    {
      "cell_type": "code",
      "metadata": {
        "id": "2XoSqVJG5FkG"
      },
      "source": [
        "# Data file name variables\n",
        "train_file_path = basePath + \"gd-train.dat\"\n",
        "test_file_path = basePath + \"gd-test.dat\"\n"
      ],
      "execution_count": null,
      "outputs": []
    },
    {
      "cell_type": "code",
      "metadata": {
        "id": "l73PTZtCPdxj"
      },
      "source": [
        "# Read the training and testing data files\n",
        "with open(train_file_path, 'r') as train_file:\n",
        "  next(train_file)\n",
        "  training_data = [line.strip().split() for line in train_file]\n",
        "\n",
        "with open(test_file_path, 'r') as test_file:\n",
        "  next(test_file)\n",
        "  testing_data = [line.strip().split() for line in test_file]\n",
        "\n",
        "testing_data = testing_data[:-1]\n",
        "test_data = np.array(testing_data, dtype=float)\n",
        "train_data = np.array(training_data, dtype=float)\n"
      ],
      "execution_count": null,
      "outputs": []
    },
    {
      "cell_type": "code",
      "metadata": {
        "id": "VN3FC2qcPfcR"
      },
      "source": [
        "# Activation Function - implement Sigmoid\n",
        "def activation_function(h):\n",
        "  return 1 / (1 + np.exp(-h))\n",
        "    # given 'h' compute and return 'z' based on the activation function implemented\n"
      ],
      "execution_count": null,
      "outputs": []
    },
    {
      "cell_type": "code",
      "metadata": {
        "id": "V5njAQvmPmOC"
      },
      "source": [
        "def train(train_data, learning_rate=0.05):\n",
        "    num_features = train_data.shape[1] - 1\n",
        "    weights = np.zeros(num_features + 1)\n",
        "\n",
        "    for data_point in train_data:\n",
        "        features = data_point[:-1]\n",
        "        label = data_point[-1]\n",
        "        features_with_bias = np.append(features, 1)\n",
        "        activation = np.dot(weights, features_with_bias)\n",
        "        weights += learning_rate * (label - activation) * features_with_bias\n",
        "    return weights"
      ],
      "execution_count": null,
      "outputs": []
    },
    {
      "cell_type": "code",
      "metadata": {
        "id": "Gx98kNxDPq5B"
      },
      "source": [
        "def test(test_data, weights, threshold=0):\n",
        "    num_correct = 0\n",
        "    num_total = len(test_data)\n",
        "\n",
        "\n",
        "    for instance in test_data:\n",
        "        features = instance[:-1]\n",
        "        label = instance[-1]\n",
        "        features_with_bias = np.append(features, 1)\n",
        "        activation = np.dot(weights, features_with_bias)\n",
        "        if activation >= threshold:\n",
        "            predicted_label = 1\n",
        "        else:\n",
        "            predicted_label = 0\n",
        "\n",
        "        if predicted_label == label:\n",
        "            num_correct += 1\n",
        "\n",
        "    # Calculate accuracy\n",
        "    accuracy = num_correct / num_total\n",
        "    return accuracy\n"
      ],
      "execution_count": null,
      "outputs": []
    },
    {
      "cell_type": "code",
      "metadata": {
        "id": "_5B6IG0APxH4"
      },
      "source": [
        "def gradient_descent(df_train, df_test, learning_rate=0.05, threshold=0.5):\n",
        "    # Train the model and obtain the weights\n",
        "    weights = train(df_train, learning_rate)\n",
        "\n",
        "    # Evaluate training accuracy\n",
        "    train_accuracy = test(df_train, weights, threshold)\n",
        "\n",
        "    # Evaluate testing accuracy\n",
        "    test_accuracy = test(df_test, weights, threshold)\n",
        "\n",
        "    # Return (training accuracy, testing accuracy)\n",
        "    return (train_accuracy, test_accuracy)"
      ],
      "execution_count": null,
      "outputs": []
    },
    {
      "cell_type": "code",
      "metadata": {
        "id": "MB_b5ButP3w3"
      },
      "source": [
        "# Threshold of 0.5 will be used to classify the instance for the test. If the value is >= 0.5, classify as 1 or else 0.\n",
        "threshold = 0.5\n"
      ],
      "execution_count": null,
      "outputs": []
    },
    {
      "cell_type": "code",
      "metadata": {
        "id": "YdPwgSBOtb1P",
        "colab": {
          "base_uri": "https://localhost:8080/"
        },
        "outputId": "44bb4224-cae1-42c6-91e8-f9129d504bcf"
      },
      "source": [
        "# Define the range of learning rates to iterate over\n",
        "learning_rates = [0.05, 1]\n",
        "\n",
        "# Loop through all the different learning rates\n",
        "for learning_rate in learning_rates:\n",
        "    # Call the gradient descent function to obtain the train and test accuracy values\n",
        "    train_accuracy, test_accuracy = gradient_descent(train_data, test_data, learning_rate)\n",
        "\n",
        "    # Print the accuracy values\n",
        "    print(f\"Accuracy for LR of {learning_rate} on Training set = {train_accuracy * 100:.2f}%\")\n",
        "    print(f\"Accuracy for LR of {learning_rate} on Testing set = {test_accuracy * 100:.2f}%\")\n",
        "\n"
      ],
      "execution_count": null,
      "outputs": [
        {
          "output_type": "stream",
          "name": "stdout",
          "text": [
            "Accuracy for LR of 0.5 on Training set = 68.00%\n",
            "Accuracy for LR of 0.5 on Testing set = 72.25%\n",
            "Accuracy for LR of 1 on Training set = 68.00%\n",
            "Accuracy for LR of 1 on Testing set = 72.25%\n"
          ]
        }
      ]
    },
    {
      "cell_type": "markdown",
      "metadata": {
        "id": "lYxmgcnes9cS"
      },
      "source": [
        "##Extra Credit - Accuracy Plots\n",
        "\n",
        "(05 points)\n",
        "\n",
        "Use the above accuracy results on the training and testing data and write code to plot the graphs as mentioned in the code block below.\n",
        "\n"
      ]
    },
    {
      "cell_type": "code",
      "metadata": {
        "id": "fbBNakSDq0Wv",
        "colab": {
          "base_uri": "https://localhost:8080/",
          "height": 507
        },
        "outputId": "9c5a4a75-344d-45bf-bfd9-4e4856e5ac6f"
      },
      "source": [
        "import matplotlib.pyplot as plt\n",
        "\n",
        "# Initialize lists to store accuracy values\n",
        "train_accuracies = []\n",
        "test_accuracies = []\n",
        "\n",
        "# Define the range of learning rates to iterate over\n",
        "learning_rates = np.arange(0.05, 1.05, 0.05)\n",
        "\n",
        "# Loop through all the different learning rates\n",
        "for learning_rate in learning_rates:\n",
        "    # Call the gradient descent function to obtain the train and test accuracy values\n",
        "    train_accuracy, test_accuracy = gradient_descent(train_data, test_data, learning_rate)\n",
        "\n",
        "    # Append accuracy values to the lists\n",
        "    train_accuracies.append(train_accuracy)\n",
        "    test_accuracies.append(test_accuracy)\n",
        "\n",
        "# Plot the graphs\n",
        "plt.figure(figsize=(10, 5))\n",
        "\n",
        "# Plot for training data\n",
        "plt.subplot(1, 2, 1)\n",
        "plt.plot(learning_rates, train_accuracies, marker='o')\n",
        "plt.title('Training Data')\n",
        "plt.xlabel('Learning Rate')\n",
        "plt.ylabel('Training Accuracy')\n",
        "plt.grid(True)\n",
        "\n",
        "# Plot for testing data\n",
        "plt.subplot(1, 2, 2)\n",
        "plt.plot(learning_rates, test_accuracies, marker='o')\n",
        "plt.title('Testing Data')\n",
        "plt.xlabel('Learning Rate')\n",
        "plt.ylabel('Testing Accuracy')\n",
        "plt.grid(True)\n",
        "\n",
        "plt.tight_layout()\n",
        "plt.show()\n"
      ],
      "execution_count": null,
      "outputs": [
        {
          "output_type": "display_data",
          "data": {
            "text/plain": [
              "<Figure size 1000x500 with 2 Axes>"
            ],
            "image/png": "[encoded data removed]"
          },
          "metadata": {}
        }
      ]
    },
    {
      "cell_type": "markdown",
      "metadata": {
        "id": "onnqJYTEq0l3"
      },
      "source": [
        "#ID3 Decision Tree\n",
        "\n",
        "In this section, you will implement the ID3 Decision Tree algorithm. The training is for a **binary classification** task i.e. each instance will have a class value of 0 or 1. Also, assume that there are **no missing values** in the train or test data.\n"
      ]
    },
    {
      "cell_type": "markdown",
      "metadata": {
        "id": "eDNztBkTtRPw"
      },
      "source": [
        "## Algorithm\n",
        "\n",
        "(85 points)\n",
        "\n",
        "Following are the data files that will be provided to you for the ID3 algorithm implementation.\n",
        "\n",
        "*   Training file - 'id3-train.dat'\n",
        "*   Testing file - 'id3-test.dat'\n",
        "\n",
        "In these files, only non-space characters are relevant. The first line contains the attribute names. All the other lines are example instances to be used for the algorithm. Each column holds values of the attributes, whereas the last column holds the class label for that instance.\n",
        "\n",
        "In a decision tree, if you reach a leaf node but still have examples that belong to different classes, then choose the most frequent class (among the instances at the leaf node). If you reach a leaf node in the decision tree and have no examples left or the examples are equally split among multiple classes, then choose the class that is most frequent in the entire training set. You do not need to implement pruning. Also, don’t forget to use logarithm base 2 when computing entropy and set (0 log 0) to 0.\n",
        "\n",
        "Write the code in the following code block, structure is provided. Instructions on the steps to follow are provided as comments. The code should output the following 3 things:\n",
        "\n",
        "*   Print the Decision Tree created, in the following example format:\n",
        "\n",
        "    ```\n",
        "    attr1 = 0 :\n",
        "        attr2 = 0 :\n",
        "            attr3 = 0 : 1 -- 4\n",
        "            attr3 = 1 : 0 -- 9\n",
        "        attr2 = 1 :\n",
        "            attr4 = 0 : 0 -- 2\n",
        "            attr4 = 1 : 1 -- 10\n",
        "    attr1 = 1 :\n",
        "        attr2 = 1 : 1 -- 17\n",
        "\n",
        "    ```\n",
        "\n",
        "*   Accuracy on the Training data = x %\n",
        "*   Accuracy on the Test data = x %\n",
        "\n",
        "\n",
        "\n"
      ]
    },
    {
      "cell_type": "code",
      "metadata": {
        "id": "wTLz1lGYQJKS"
      },
      "source": [
        "# Data file name variables\n",
        "train = basePath + \"id3-train.dat\"\n",
        "test = basePath + \"id3-test.dat\"\n"
      ],
      "execution_count": null,
      "outputs": []
    },
    {
      "cell_type": "code",
      "metadata": {
        "id": "HwHYC6xjQP5D",
        "colab": {
          "base_uri": "https://localhost:8080/"
        },
        "outputId": "d42cb53a-5d47-4ff8-fd22-444cbdce716a"
      },
      "source": [
        "# Function to calculate entropy\n",
        "def entropy(data):\n",
        "    class_counts = np.unique(data[:, -1], return_counts=True)[1]\n",
        "    total_instances = np.sum(class_counts)\n",
        "    probabilities = class_counts / total_instances\n",
        "    entropy_value = -np.sum(probabilities * np.log2(probabilities))\n",
        "    return entropy_value\n",
        "\n",
        "# Function to calculate information gain\n",
        "def information_gain(data, attribute_index):\n",
        "    total_entropy = entropy(data)\n",
        "    attribute_values, counts = np.unique(data[:, attribute_index], return_counts=True)\n",
        "    weighted_entropy = 0\n",
        "    for value, count in zip(attribute_values, counts):\n",
        "        subset = data[data[:, attribute_index] == value]\n",
        "        subset_entropy = entropy(subset)\n",
        "        weighted_entropy += (count / len(data)) * subset_entropy\n",
        "    return total_entropy - weighted_entropy\n",
        "\n",
        "# Function to select the best attribute to split on\n",
        "def select_best_attribute(data, attributes_remaining):\n",
        "    information_gains = [information_gain(data, i) for i in attributes_remaining]\n",
        "    best_attribute_index = np.argmax(information_gains)\n",
        "    return best_attribute_index\n",
        "\n",
        "# Function to create the decision tree\n",
        "def ID3(data, root, attributes_remaining):\n",
        "    # If you reach a leaf node in the decision tree and have no examples left or the examples are equally split among multiple classes\n",
        "    if len(np.unique(data[:, -1])) == 1:\n",
        "        return int(data[0, -1])\n",
        "\n",
        "    # If all the instances have only one class label\n",
        "    if len(attributes_remaining) == 0:\n",
        "        class_counts = np.unique(data[:, -1], return_counts=True)[1]\n",
        "        return np.argmax(class_counts)\n",
        "\n",
        "    # If you reached a leaf node but still have examples that belong to different classes (there are no remaining attributes to be split)\n",
        "    if len(attributes_remaining) == 1:\n",
        "        class_counts = np.unique(data[:, -1], return_counts=True)[1]\n",
        "        return np.argmax(class_counts)\n",
        "\n",
        "    # Find the best attribute to split\n",
        "    best_attribute_index = select_best_attribute(data, attributes_remaining)\n",
        "    best_attribute_value = attributes_remaining[best_attribute_index]\n",
        "\n",
        "    # Create subtree\n",
        "    root[best_attribute_value] = {}\n",
        "    remaining_attributes = np.delete(attributes_remaining, best_attribute_index)\n",
        "    attribute_values = np.unique(data[:, best_attribute_value])\n",
        "    for value in attribute_values:\n",
        "        subset = data[data[:, best_attribute_value] == value]\n",
        "        if len(subset) == 0:\n",
        "            class_counts = np.unique(data[:, -1], return_counts=True)[1]\n",
        "            root[best_attribute_value][value] = np.argmax(class_counts)\n",
        "        else:\n",
        "            root[best_attribute_value][value] = ID3(subset, {}, remaining_attributes)\n",
        "\n",
        "    return root\n",
        "\n",
        "# Function to classify an instance using the decision tree\n",
        "def classify(instance, tree):\n",
        "    for attr, subtree in tree.items():\n",
        "        value = instance[attr]\n",
        "        if value in subtree:\n",
        "            if isinstance(subtree[value], dict):\n",
        "                return classify(instance, subtree[value])\n",
        "            else:\n",
        "                return subtree[value]\n",
        "\n",
        "# Function to calculate accuracy\n",
        "def accuracy(data, tree):\n",
        "    correct = 0\n",
        "    for instance in data:\n",
        "        if classify(instance[:-1], tree) == instance[-1]:\n",
        "            correct += 1\n",
        "    return (correct / len(data)) * 100\n",
        "\n",
        "# Load data\n",
        "train_data = np.loadtxt(train, dtype=int, delimiter='\\t', skiprows=1)\n",
        "test_data = np.loadtxt(test, dtype=int, delimiter='\\t', skiprows=1)\n",
        "\n",
        "# Get attribute names\n",
        "with open(train, 'r') as f:\n",
        "    attributes = f.readline().strip().split('\\t')  # Modified this line\n",
        "\n",
        "# Check if the number of attributes matches the number of columns in the data\n",
        "if len(attributes) != train_data.shape[1] - 1:\n",
        "    print(\"Error: The number of attributes does not match the number of columns in the data.\")\n",
        "    exit()\n",
        "\n",
        "# Initialize root node\n",
        "root = {}\n",
        "\n",
        "# Build decision tree\n",
        "ID3(train_data, root, list(range(train_data.shape[1] - 1)))\n",
        "\n",
        "# Print the decision tree\n",
        "def print_tree(tree, depth=0):\n",
        "    for attr, subtree in tree.items():\n",
        "        if isinstance(subtree, dict):\n",
        "            print('  ' * depth + attributes[attr] + \" = \" + str(attr))\n",
        "            print_tree(subtree, depth + 1)\n",
        "        else:\n",
        "            print('  ' * depth + attributes[attr] + \" = \" + str(attr) + \" : \" + str(subtree))\n",
        "\n",
        "print_tree(root)\n",
        "\n",
        "# Calculate accuracy\n",
        "train_accuracy = accuracy(train_data, root)\n",
        "test_accuracy = accuracy(test_data, root)\n",
        "\n",
        "print(\"Accuracy on the Training data = {:.2f} %\".format(train_accuracy))\n",
        "print(\"Accuracy on the Test data = {:.2f} %\".format(test_accuracy))\n"
      ],
      "execution_count": null,
      "outputs": [
        {
          "output_type": "stream",
          "name": "stdout",
          "text": [
            "Error: The number of attributes does not match the number of columns in the data.\n",
            "attr5 = 4\n",
            "  attr1 = 0\n",
            "    attr6 = 5\n",
            "      attr1 = 0\n",
            "        attr2 = 1\n",
            "          attr1 = 0\n",
            "            attr1 = 0\n",
            "              attr1 = 0\n",
            "                attr4 = 3\n",
            "                  attr1 = 0 : 0\n",
            "                  attr2 = 1 : 0\n",
            "              attr2 = 1\n",
            "                attr4 = 3\n",
            "                  attr1 = 0 : 0\n",
            "                  attr2 = 1 : 0\n",
            "          attr2 = 1\n",
            "            attr4 = 3\n",
            "              attr1 = 0\n",
            "                attr3 = 2\n",
            "                  attr1 = 0 : 0\n",
            "                  attr2 = 1 : 0\n",
            "              attr2 = 1\n",
            "                attr1 = 0\n",
            "                  attr1 = 0 : 0\n",
            "                  attr2 = 1 : 0\n",
            "      attr2 = 1\n",
            "        attr4 = 3\n",
            "          attr1 = 0\n",
            "            attr2 = 1\n",
            "              attr1 = 0\n",
            "                attr3 = 2\n",
            "                  attr1 = 0 : 0\n",
            "                  attr2 = 1 : 0\n",
            "              attr2 = 1\n",
            "                attr1 = 0\n",
            "                  attr1 = 0 : 0\n",
            "                  attr2 = 1 : 0\n",
            "          attr2 = 1\n",
            "            attr2 = 1\n",
            "              attr1 = 0\n",
            "                attr1 = 0\n",
            "                  attr1 = 0 : 0\n",
            "                  attr2 = 1 : 0\n",
            "              attr2 = 1\n",
            "                attr1 = 0\n",
            "                  attr1 = 0 : 1\n",
            "                  attr2 = 1 : 0\n",
            "  attr2 = 1\n",
            "    attr6 = 5\n",
            "      attr1 = 0\n",
            "        attr3 = 2\n",
            "          attr1 = 0\n",
            "            attr4 = 3\n",
            "              attr1 = 0\n",
            "                attr1 = 0\n",
            "                  attr1 = 0 : 0\n",
            "                  attr2 = 1 : 0\n",
            "              attr2 = 1\n",
            "                attr1 = 0\n",
            "                  attr1 = 0 : 1\n",
            "                  attr2 = 1 : 0\n",
            "          attr2 = 1\n",
            "            attr2 = 1\n",
            "              attr1 = 0\n",
            "                attr4 = 3\n",
            "                  attr1 = 0 : 1\n",
            "                  attr2 = 1 : 1\n",
            "              attr2 = 1\n",
            "                attr1 = 0\n",
            "                  attr1 = 0 : 1\n",
            "                  attr2 = 1 : 0\n",
            "      attr2 = 1\n",
            "        attr4 = 3\n",
            "          attr1 = 0\n",
            "            attr2 = 1\n",
            "              attr1 = 0\n",
            "                attr3 = 2\n",
            "                  attr1 = 0 : 0\n",
            "                  attr2 = 1 : 0\n",
            "              attr2 = 1\n",
            "                attr1 = 0\n",
            "                  attr1 = 0 : 0\n",
            "                  attr2 = 1 : 0\n",
            "          attr2 = 1\n",
            "            attr1 = 0\n",
            "              attr1 = 0\n",
            "                attr2 = 1\n",
            "                  attr1 = 0 : 1\n",
            "                  attr2 = 1 : 0\n",
            "              attr2 = 1\n",
            "                attr2 = 1\n",
            "                  attr1 = 0 : 0\n",
            "                  attr2 = 1 : 0\n",
            "Accuracy on the Training data = 86.25 %\n",
            "Accuracy on the Test data = 82.76 %\n"
          ]
        }
      ]
    }
  ]
}